{
  "cells": [
    {
      "cell_type": "code",
      "execution_count": 1,
      "metadata": {
        "colab": {
          "base_uri": "https://localhost:8080/"
        },
        "id": "agz65OzTjeF7",
        "outputId": "422ab562-3258-45e0-f33f-63bd4b90fce9"
      },
      "outputs": [
        {
          "output_type": "stream",
          "name": "stdout",
          "text": [
            "請輸入一個大於一的整數：73\n",
            "73\n"
          ]
        }
      ],
      "source": [
        "num=int(input(\"請輸入一個大於一的整數：\"))\n",
        "while num<2:\n",
        "  num=int(input(\"輸入錯誤，請重新輸入一個大於一的整數：\"))\n",
        "prime=[]\n",
        "for i in range(2,num+1):\n",
        "  prime.append(i)\n",
        "  for j in range(2,i):\n",
        "    if i%j==0:\n",
        "      prime.remove(i)\n",
        "      break\n",
        "print(prime[len(prime)-1])"
      ]
    },
    {
      "cell_type": "code",
      "execution_count": 2,
      "metadata": {
        "colab": {
          "base_uri": "https://localhost:8080/"
        },
        "id": "wgwsQrz2n44B",
        "outputId": "cb121525-98fd-44bf-c4ce-d84feaf1c2c2"
      },
      "outputs": [
        {
          "output_type": "stream",
          "name": "stdout",
          "text": [
            "請輸入一串數字，數字間以逗號隔開：35,63,7,23,98\n",
            "[2, 3, 0, 1, 4]\n"
          ]
        }
      ],
      "source": [
        "num=input(\"請輸入一串數字，數字間以逗號隔開：\")\n",
        "num=num.split(\",\")\n",
        "numlist=[]\n",
        "for i in range(len(num)):\n",
        "  numlist.append(int(num[i]))\n",
        "result=[]\n",
        "for i in range(len(numlist)):\n",
        "  a=0\n",
        "  for j in range(len(numlist)):\n",
        "    if numlist[i]>numlist[j]:\n",
        "      a+=1\n",
        "  result.append(a)\n",
        "print(result)"
      ]
    },
    {
      "cell_type": "code",
      "execution_count": null,
      "metadata": {
        "colab": {
          "base_uri": "https://localhost:8080/"
        },
        "id": "gXUVmrn8qMgC",
        "outputId": "8cbe39dc-1626-4422-f52e-38749975a2f5"
      },
      "outputs": [
        {
          "name": "stdout",
          "output_type": "stream",
          "text": [
            "請輸入一串0或1：000101\n",
            "[8, 6, 4, 2, 2, 2]\n"
          ]
        }
      ],
      "source": [
        "ball=str(input(\"請輸入一串0或1：\"))\n",
        "result=[]\n",
        "for i in range(len(ball)):\n",
        "  count=0\n",
        "  for j in range(len(ball)):\n",
        "    if ball[j]==\"1\":\n",
        "      count+=abs(i-j)\n",
        "  result.append(count)\n",
        "print(result)"
      ]
    }
  ],
  "metadata": {
    "colab": {
      "provenance": []
    },
    "kernelspec": {
      "display_name": "Python 3",
      "name": "python3"
    },
    "language_info": {
      "name": "python"
    }
  },
  "nbformat": 4,
  "nbformat_minor": 0
}